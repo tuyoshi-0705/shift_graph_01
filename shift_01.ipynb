{
 "cells": [
  {
   "cell_type": "code",
   "execution_count": null,
   "id": "289aeb56-ab1c-4f2f-900e-b8ee1e30ba35",
   "metadata": {},
   "outputs": [],
   "source": [
    "name = [taro, suzuki, tanaka]\n",
    "\n",
    "day = []\n",
    "\n",
    "time = []\n",
    "\n"
   ]
  },
  {
   "cell_type": "code",
   "execution_count": 2,
   "id": "b0943cf9-744b-4abd-be05-8f0e236dae15",
   "metadata": {},
   "outputs": [
    {
     "name": "stdout",
     "output_type": "stream",
     "text": [
      "Requirement already satisfied: pulp in c:\\users\\owner\\anaconda3\\lib\\site-packages (2.6.0)\n"
     ]
    }
   ],
   "source": [
    "!pip install pulp"
   ]
  },
  {
   "cell_type": "code",
   "execution_count": 3,
   "id": "e3c51061-eff2-4aed-a53b-151f601abd46",
   "metadata": {},
   "outputs": [],
   "source": [
    "#ライブラリの用意\n",
    "import pulp"
   ]
  },
  {
   "cell_type": "code",
   "execution_count": 4,
   "id": "d497014c-7f35-4731-a30c-f70e86270e32",
   "metadata": {},
   "outputs": [
    {
     "name": "stdout",
     "output_type": "stream",
     "text": [
      "[1, 2, 3, 4, 5, 6, 7, 8, 9, 10, 11, 12, 13, 14, 15, 16, 17, 18, 19, 20, 21, 22, 23, 24, 25, 26, 27, 28, 29, 30, 31]\n"
     ]
    }
   ],
   "source": [
    "#日付リスト # 調整さんから日付を取得\n",
    "Day = list(range(1,32))\n",
    "print(Day)"
   ]
  },
  {
   "cell_type": "code",
   "execution_count": 5,
   "id": "99840e49-0739-4fdd-b1e4-452d9e5ac14f",
   "metadata": {},
   "outputs": [],
   "source": [
    "#従業員リスト #調整さんから名前を取得\n",
    "Worker_name = ['a','b','c','d','e','f','g','h','i','j']"
   ]
  },
  {
   "cell_type": "code",
   "execution_count": 6,
   "id": "279a741d-2e96-4c46-bbd7-f902d12caa2c",
   "metadata": {},
   "outputs": [],
   "source": [
    "#従業員希望休 #調整さんから得た名前を代入と、休日を取得\n",
    "H_hope = [\n",
    "          ('a',1),('a',4),('b',12),('b',13),('c',26),('d',9),('d',27),\n",
    "          ('e',21),('f',6),('h',15),('i',25),('j',27),('j',28)\n",
    "          ]"
   ]
  },
  {
   "cell_type": "code",
   "execution_count": 7,
   "id": "3c9bbd97-fb16-4e3f-9ed7-b8617690315c",
   "metadata": {},
   "outputs": [
    {
     "name": "stdout",
     "output_type": "stream",
     "text": [
      "{1: 3, 2: 3, 3: 3, 4: 3, 5: 3, 6: 3, 7: 3, 8: 3, 9: 3, 10: 3, 11: 3, 12: 3, 13: 3, 14: 3, 15: 3, 16: 3, 17: 3, 18: 3, 19: 3, 20: 3, 21: 3, 22: 3, 23: 3, 24: 3, 25: 3, 26: 3, 27: 3, 28: 3, 29: 3, 30: 3, 31: 3}\n"
     ]
    }
   ],
   "source": [
    "# d = {キー: 値 for キー／値の計算で使用する変数 in 反復可能オブジェクト}\n",
    "# d = {k: k *2 for k in range(5)}\n",
    "# print(d)  # {0: 0, 1: 1, 2: 4, 3: 9, 4: 16}\n",
    "#定数の定義\n",
    "#最適休暇人数リスト #最高休暇とっていい人の人数\n",
    "S_req = {d:3 for d in Day}\n",
    "print(S_req)"
   ]
  },
  {
   "cell_type": "code",
   "execution_count": 8,
   "id": "9896417b-f99d-4bd5-9f65-9003d1e5b90e",
   "metadata": {},
   "outputs": [
    {
     "name": "stdout",
     "output_type": "stream",
     "text": [
      "{'a': 9, 'b': 8, 'c': 9, 'd': 8, 'e': 9, 'f': 9, 'g': 10, 'h': 8, 'i': 9, 'j': 9}\n"
     ]
    }
   ],
   "source": [
    "# forループの中で複数のイテラブルオブジェクト（リストやタプルなど）の要素を同時に取得して使いたい場合は、zip()関数の引数にそれらを指定する。\n",
    "\n",
    "# names = ['Alice', 'Bob', 'Charlie']\n",
    "# ages = [24, 50, 18]\n",
    "\n",
    "# for name, age in zip(names, ages):\n",
    "#     print(name, age)\n",
    "# # Alice 24\n",
    "# # Bob 50\n",
    "# # Charlie 18\n",
    "\n",
    "\n",
    "#必要休暇日数\n",
    "H_req = {e:hr for e,hr in zip(Worker_name,[9,8,9,8,9,9,10,8,9,9])}\n",
    "\n",
    "print(H_req)"
   ]
  },
  {
   "cell_type": "code",
   "execution_count": 9,
   "id": "11eb5e7e-8cd1-4f2f-81d2-4b057d54d8cb",
   "metadata": {},
   "outputs": [
    {
     "name": "stdout",
     "output_type": "stream",
     "text": [
      "ShiftFittingProblem:\n",
      "MINIMIZE\n",
      "None\n",
      "VARIABLES\n",
      "\n"
     ]
    }
   ],
   "source": [
    "# モデルの作成\n",
    "# モデルには、最小化と最大化の2種類あります。PuLPでは、モデル作成時に指定します。\n",
    "\n",
    "# 最小化のモデル作成：m = LpProblem(sense=LpMinimize)\n",
    "\n",
    "# 最大化のモデル作成：m = LpProblem(sense=LpMaximize)\n",
    "\n",
    "# デフォルトはsense=LpMinimizeなので、引数を省略すると最小化になります。\n",
    "\n",
    "# LpProblemの第一引数は、モデル名です。省略すると'NoName'になります。\n",
    "\n",
    "# モデル名は、nameプロパティーで確認できます。\n",
    "\n",
    "# 最小化と最大化のどちらであるかは、senseプロパティーで確認できます。\n",
    "\n",
    "# Jupyter Notebookで、モデルを評価すると、下記のように、LPフォーマットで確認できます。各行は、モデル名、モデルの種類、制約条件、変数宣言になります。\n",
    "\n",
    "# NoName:\n",
    "# MAXIMIZE\n",
    "# None\n",
    "# VARIABLES\n",
    "\n",
    "#最適化モデルの定義\n",
    "prob = pulp.LpProblem('ShiftFittingProblem',pulp.LpMinimize)\n",
    "\n",
    "print(prob)"
   ]
  },
  {
   "cell_type": "code",
   "execution_count": null,
   "id": "37181995-b484-4e1f-a441-35f2766870d1",
   "metadata": {},
   "outputs": [],
   "source": [
    "# 変数作成¶\n",
    "# 変数とは、意思決定の対象です。具体例を上げてみましょう。\n",
    "\n",
    "# ・自宅から学校への最短路を求めたい場合の変数：各経路を通るかどうか\n",
    "# ・生産額を最大化したい場合の変数：製品ごとの生産量\n",
    "# ・輸送費用を最小化したい場合の変数：経路ごとの輸送量\n",
    "\n",
    "# PuLPの変数の種類は、以下の3種類あります。 線形最適化では、連続変数だけ使います。LpVariableは、デフォルトで連続変数になります。\n",
    "\n",
    "# 連続変数：実数値を表す変数です。\n",
    "\n",
    "# 0-1変数：0または1のみを表す変数です。\n",
    "\n",
    "# 整数変数：整数値を表す変数です。\n",
    "\n",
    "# LpVariableのオプション\n",
    "\n",
    "# 第1引数：変数名（必須）\n",
    "\n",
    "# lowBound：変数の下限。デフォルトはNoneで下限なしです。\n",
    "\n",
    "# upBound：変数の上限。デフォルトはNoneで上限なしです。\n",
    "\n",
    "# cat：変数の種類。デフォルトはpulp.LpContinuousで連続変数です。\n",
    "\n",
    "# LpVariableの作成例\n",
    "\n",
    "# LpVariable('x')：自由変数を作成します。自由変数とは、-∞から∞までの値を取ることができる変数です。\n",
    "\n",
    "# LpVariable('y', lowBound=0)：非負変数を作成します。非負変数とは、0から∞までの値を取ることができる変数です。\n",
    "\n",
    "# LpVariable('y', lowBound=0, upBound=1)：上下限のある変数を作成します。範囲は、lowBoundの値からupBoundの値までです。\n",
    "\n",
    "# LpVariableの注意事項\n",
    "\n",
    "# LpVariableは、必ず変数名を指定する必要があります。また、全ての変数は、異なる名前になっていないといけません。\n",
    "\n",
    "# 実際に同じ変数名（'x'）を作って実行してみましょう。\n",
    "\n",
    "# m = LpProblem()\n",
    "# x = LpVariable('x', lowBound=0)\n",
    "# y = LpVariable('x', lowBound=0)  # 変数名が同じ！\n",
    "# m += x + y\n",
    "# m.solve()\n",
    "# 下記のようにエラーになりますが、エラーメッセージを見ても原因がわかりません。同じ変数名を作成しないように注意しましょう。\n",
    "\n",
    "# PulpSolverError                           Traceback (most recent call last)\n",
    "# 中略\n",
    "# PulpSolverError: Pulp: Error while executing .../cbc"
   ]
  },
  {
   "cell_type": "code",
   "execution_count": 15,
   "id": "374b3a48-7bc4-41f3-adc7-b81edfd83146",
   "metadata": {},
   "outputs": [],
   "source": [
    "#変数の定義\n",
    "ED = [(e,d) for e in Worker_name for d in Day]\n",
    "x = pulp.LpVariable.dicts('x',ED,cat='Binary')\n",
    "\n",
    "# print(ED)\n",
    "# print(x)\n"
   ]
  },
  {
   "cell_type": "code",
   "execution_count": null,
   "id": "adbb3837-db90-40b9-8532-e93c8671e847",
   "metadata": {},
   "outputs": [],
   "source": [
    "#制約式の定義\n",
    "#必要休暇日数を守る\n",
    "for e in Emp:\n",
    "  prob += pulp.lpSum([x[e,d] for d in Day]) == H_req[e]\n"
   ]
  },
  {
   "cell_type": "code",
   "execution_count": null,
   "id": "500c7d9d-1ca8-4314-a667-5a59dae0fdf3",
   "metadata": {},
   "outputs": [],
   "source": [
    "#希望休を守る\n",
    "for e,d in H_hope:\n",
    "  prob += x[e,d] == 1"
   ]
  },
  {
   "cell_type": "code",
   "execution_count": null,
   "id": "ce6b8e7f-e1fb-4c52-a10a-48678080d157",
   "metadata": {},
   "outputs": [],
   "source": []
  },
  {
   "cell_type": "code",
   "execution_count": null,
   "id": "243d5c59-6077-4b2c-b2ce-7b992c8e52e5",
   "metadata": {},
   "outputs": [],
   "source": []
  },
  {
   "cell_type": "code",
   "execution_count": null,
   "id": "711ba96e-4bf8-4e40-8610-16f0cda48136",
   "metadata": {},
   "outputs": [],
   "source": []
  },
  {
   "cell_type": "code",
   "execution_count": null,
   "id": "70a77db5-398f-491e-a8d9-4c28207c6107",
   "metadata": {},
   "outputs": [],
   "source": []
  },
  {
   "cell_type": "code",
   "execution_count": null,
   "id": "2f6dbaf4-55c0-4f16-8985-35b647f0c58f",
   "metadata": {},
   "outputs": [],
   "source": []
  },
  {
   "cell_type": "code",
   "execution_count": null,
   "id": "7e202815-0a25-42e4-931b-7171ddce335d",
   "metadata": {},
   "outputs": [],
   "source": []
  },
  {
   "cell_type": "code",
   "execution_count": null,
   "id": "ed6608ca-a249-4bba-8ebd-ac5e1e51b8cd",
   "metadata": {},
   "outputs": [],
   "source": []
  }
 ],
 "metadata": {
  "kernelspec": {
   "display_name": "Python 3",
   "language": "python",
   "name": "python3"
  },
  "language_info": {
   "codemirror_mode": {
    "name": "ipython",
    "version": 3
   },
   "file_extension": ".py",
   "mimetype": "text/x-python",
   "name": "python",
   "nbconvert_exporter": "python",
   "pygments_lexer": "ipython3",
   "version": "3.8.8"
  }
 },
 "nbformat": 4,
 "nbformat_minor": 5
}
